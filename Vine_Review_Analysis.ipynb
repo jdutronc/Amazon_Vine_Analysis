{
  "cells": [
    {
      "cell_type": "code",
      "execution_count": 1,
      "metadata": {
        "colab": {
          "base_uri": "https://localhost:8080/"
        },
        "id": "hwZZHHYMvroE",
        "outputId": "7e0b497e-5977-46d7-cf2f-5b9941bf5965"
      },
      "outputs": [
        {
          "name": "stdout",
          "output_type": "stream",
          "text": [
            "\r0% [Working]\r            \rGet:1 https://cloud.r-project.org/bin/linux/ubuntu bionic-cran40/ InRelease [3,626 B]\n",
            "Hit:2 http://archive.ubuntu.com/ubuntu bionic InRelease\n",
            "Get:3 http://archive.ubuntu.com/ubuntu bionic-updates InRelease [88.7 kB]\n",
            "Get:4 http://security.ubuntu.com/ubuntu bionic-security InRelease [88.7 kB]\n",
            "Ign:5 https://developer.download.nvidia.com/compute/machine-learning/repos/ubuntu1804/x86_64  InRelease\n",
            "Hit:6 https://developer.download.nvidia.com/compute/cuda/repos/ubuntu1804/x86_64  InRelease\n",
            "Hit:7 https://developer.download.nvidia.com/compute/machine-learning/repos/ubuntu1804/x86_64  Release\n",
            "Get:8 http://ppa.launchpad.net/c2d4u.team/c2d4u4.0+/ubuntu bionic InRelease [15.9 kB]\n",
            "Get:9 http://archive.ubuntu.com/ubuntu bionic-backports InRelease [83.3 kB]\n",
            "Hit:10 http://ppa.launchpad.net/cran/libgit2/ubuntu bionic InRelease\n",
            "Hit:11 http://ppa.launchpad.net/deadsnakes/ppa/ubuntu bionic InRelease\n",
            "Hit:12 http://ppa.launchpad.net/graphics-drivers/ppa/ubuntu bionic InRelease\n",
            "Get:14 http://archive.ubuntu.com/ubuntu bionic-updates/main amd64 Packages [3,467 kB]\n",
            "Get:15 http://archive.ubuntu.com/ubuntu bionic-updates/universe amd64 Packages [2,332 kB]\n",
            "Get:16 http://ppa.launchpad.net/c2d4u.team/c2d4u4.0+/ubuntu bionic/main Sources [2,165 kB]\n",
            "Get:17 http://security.ubuntu.com/ubuntu bionic-security/universe amd64 Packages [1,554 kB]\n",
            "Get:18 http://ppa.launchpad.net/c2d4u.team/c2d4u4.0+/ubuntu bionic/main amd64 Packages [1,109 kB]\n",
            "Get:19 http://security.ubuntu.com/ubuntu bionic-security/main amd64 Packages [3,035 kB]\n",
            "Fetched 13.9 MB in 6s (2,526 kB/s)\n",
            "Reading package lists... Done\n"
          ]
        }
      ],
      "source": [
        "import os\n",
        "# Find the latest version of spark 3.0 from http://www.apache.org/dist/spark/ and enter as the spark version\n",
        "# For example:\n",
        "# spark_version = 'spark-3.2.2'\n",
        "spark_version = 'spark-3.2.2'\n",
        "os.environ['SPARK_VERSION']=spark_version\n",
        "\n",
        "# Install Spark and Java\n",
        "!apt-get update\n",
        "!apt-get install openjdk-11-jdk-headless -qq > /dev/null\n",
        "!wget -q http://www.apache.org/dist/spark/$SPARK_VERSION/$SPARK_VERSION-bin-hadoop2.7.tgz\n",
        "!tar xf $SPARK_VERSION-bin-hadoop2.7.tgz\n",
        "!pip install -q findspark\n",
        "\n",
        "# Set Environment Variables\n",
        "import os\n",
        "os.environ[\"JAVA_HOME\"] = \"/usr/lib/jvm/java-11-openjdk-amd64\"\n",
        "os.environ[\"SPARK_HOME\"] = f\"/content/{spark_version}-bin-hadoop2.7\"\n",
        "\n",
        "# Start a SparkSession\n",
        "import findspark\n",
        "findspark.init()"
      ]
    },
    {
      "cell_type": "code",
      "execution_count": 2,
      "metadata": {
        "colab": {
          "base_uri": "https://localhost:8080/"
        },
        "id": "uqP-Mpi4w4Tx",
        "outputId": "10f53279-c4ab-4ce0-afb2-87f161e7c7a4"
      },
      "outputs": [
        {
          "name": "stdout",
          "output_type": "stream",
          "text": [
            "--2022-10-20 19:38:13--  https://jdbc.postgresql.org/download/postgresql-42.2.16.jar\n",
            "Resolving jdbc.postgresql.org (jdbc.postgresql.org)... 72.32.157.228, 2001:4800:3e1:1::228\n",
            "Connecting to jdbc.postgresql.org (jdbc.postgresql.org)|72.32.157.228|:443... connected.\n",
            "HTTP request sent, awaiting response... 200 OK\n",
            "Length: 1002883 (979K) [application/java-archive]\n",
            "Saving to: ‘postgresql-42.2.16.jar’\n",
            "\n",
            "postgresql-42.2.16. 100%[===================>] 979.38K  5.24MB/s    in 0.2s    \n",
            "\n",
            "2022-10-20 19:38:13 (5.24 MB/s) - ‘postgresql-42.2.16.jar’ saved [1002883/1002883]\n",
            "\n"
          ]
        }
      ],
      "source": [
        "# Download the Postgres driver that will allow Spark to interact with Postgres.\n",
        "!wget https://jdbc.postgresql.org/download/postgresql-42.2.16.jar"
      ]
    },
    {
      "cell_type": "code",
      "execution_count": 3,
      "metadata": {
        "id": "cBuMguIFw7Sj"
      },
      "outputs": [],
      "source": [
        "from pyspark.sql import SparkSession\n",
        "spark = SparkSession.builder.appName(\"M16-Amazon-Challenge\").config(\"spark.driver.extraClassPath\",\"/content/postgresql-42.2.16.jar\").getOrCreate()"
      ]
    },
    {
      "cell_type": "code",
      "execution_count": 4,
      "metadata": {
        "colab": {
          "base_uri": "https://localhost:8080/"
        },
        "id": "OofY7F4Pw8B7",
        "outputId": "46a04e02-bdc5-4507-f0d2-4c6315c98f07"
      },
      "outputs": [
        {
          "name": "stdout",
          "output_type": "stream",
          "text": [
            "+-----------+-----------+--------------+----------+--------------+--------------------+--------------------+-----------+-------------+-----------+----+-----------------+--------------------+--------------------+-----------+\n",
            "|marketplace|customer_id|     review_id|product_id|product_parent|       product_title|    product_category|star_rating|helpful_votes|total_votes|vine|verified_purchase|     review_headline|         review_body|review_date|\n",
            "+-----------+-----------+--------------+----------+--------------+--------------------+--------------------+-----------+-------------+-----------+----+-----------------+--------------------+--------------------+-----------+\n",
            "|         US|   12190288|R3FU16928EP5TC|B00AYB1482|     668895143|Enlightened: Seas...|Digital_Video_Dow...|          5|            0|          0|   N|                Y|I loved it and I ...|I loved it and I ...| 2015-08-31|\n",
            "|         US|   30549954|R1IZHHS1MH3AQ4|B00KQD28OM|     246219280|             Vicious|Digital_Video_Dow...|          5|            0|          0|   N|                Y|As always it seem...|As always it seem...| 2015-08-31|\n",
            "|         US|   52895410| R52R85WC6TIAH|B01489L5LQ|     534732318|         After Words|Digital_Video_Dow...|          4|           17|         18|   N|                Y|      Charming movie|This movie isn't ...| 2015-08-31|\n",
            "|         US|   27072354| R7HOOYTVIB0DS|B008LOVIIK|     239012694|Masterpiece: Insp...|Digital_Video_Dow...|          5|            0|          0|   N|                Y|          Five Stars|excellant this is...| 2015-08-31|\n",
            "|         US|   26939022|R1XQ2N5CDOZGNX|B0094LZMT0|     535858974|   On The Waterfront|Digital_Video_Dow...|          5|            0|          0|   N|                Y|Brilliant film fr...|Brilliant film fr...| 2015-08-31|\n",
            "|         US|    4772040|R1HCST57W334KN|B0112OSOQE|      38517795|Rick and Morty Se...|Digital_Video_Dow...|          5|            5|          6|   N|                Y|Best show on TV r...|If you don't like...| 2015-08-31|\n",
            "|         US|   12910040|R32BUTYQS1ZJBQ|B000NPE5SA|     373323715|      Africa Screams|Digital_Video_Dow...|          4|            1|          1|   N|                Y|Very funny. A typ...|Very funny.  A ty...| 2015-08-31|\n",
            "|         US|   38805573|  RH4SXPL4L9QU|B00XWV4QXG|     633842417| Entourage: Season 7|Digital_Video_Dow...|          3|            0|          0|   N|                Y|it was not as goo...|Strange as it is,...| 2015-08-31|\n",
            "|         US|   37100714|R37INWIQA5YW8N|B00X8UKOUK|     666093513|Catastrophe - Sea...|Digital_Video_Dow...|          2|            0|          0|   N|                Y|           Two Stars|Funny shows! We l...| 2015-08-31|\n",
            "|         US|   41234409|R18GSVAAS3N8GX|B00OOKXTFU|     801680808|The Worricker Tri...|Digital_Video_Dow...|          3|            0|          0|   N|                Y|        A tad Stuffy|Well made. Great ...| 2015-08-31|\n",
            "|         US|   24698954|R2QCG0ZZOHYUOX|B00URDJ600|     174981485|Mr. Selfridge, Se...|Digital_Video_Dow...|          5|            0|          0|   N|                Y|This show is awes...|This show is awes...| 2015-08-31|\n",
            "|         US|   11956809|R2B1OCYMUVMS5C|B009JUZ5I4|     654293980|  Five Branded Women|Digital_Video_Dow...|          5|            0|          0|   N|                Y|A good perspectiv...|A good perspectiv...| 2015-08-31|\n",
            "|         US|   11763902|R131ZJWHK0XXY0|B00PSLQYWE|     156264553|Downton Abbey Sea...|Digital_Video_Dow...|          4|            0|          0|   N|                Y|this saga gets be...|this saga gets be...| 2015-08-31|\n",
            "|         US|   46765633| RY6RIUNL03N8M|B00LI1COYA|     714145608|    Extant, Season 1|Digital_Video_Dow...|          5|            0|          0|   N|                Y|          Five Stars|         Great show.| 2015-08-31|\n",
            "|         US|   12411752|R2SWNCCEH2HPM5|B01347T9O8|     331499516|            Casanova|Digital_Video_Dow...|          1|            0|          0|   N|                Y|            One Star|Not my kind of mo...| 2015-08-31|\n",
            "|         US|   14717869|R127KV8E8ZC5L4|B00EC7VQX2|     627579257|Boardwalk Empire ...|Digital_Video_Dow...|          1|            0|          1|   N|                Y|I would have give...|I would have give...| 2015-08-31|\n",
            "|         US|    7438246|R3GH9B8WLQVY5T|B014P64276|     120489454|      Reunion Part 2|Digital_Video_Dow...|          5|            0|          0|   N|                Y|          Five Stars|         I loved it.| 2015-08-31|\n",
            "|         US|   51636125|R3AEFW1YB46FAU|B00X8UKOUK|     666093513|Catastrophe - Sea...|Digital_Video_Dow...|          3|            0|          0|   N|                Y|I want to like it...|I want to like it...| 2015-08-31|\n",
            "|         US|   47856888|R1ZHHD1GTHGMNK|B005U9RM0W|     728197314|      Grimm Season 1|Digital_Video_Dow...|          4|            1|          1|   N|                Y|If you're a sucke...|If you're a sucke...| 2015-08-31|\n",
            "|         US|    9210752|R2BCH4XK5CIK50|B00X8UKOUK|     666093513|Catastrophe - Sea...|Digital_Video_Dow...|          5|            0|          0|   N|                Y|         Great show.|Well done!!  Grea...| 2015-08-31|\n",
            "+-----------+-----------+--------------+----------+--------------+--------------------+--------------------+-----------+-------------+-----------+----+-----------------+--------------------+--------------------+-----------+\n",
            "only showing top 20 rows\n",
            "\n"
          ]
        }
      ],
      "source": [
        "from pyspark import SparkFiles\n",
        "url = \"https://<MYBUCKET>.s3.amazonaws.com/amazon_reviews_us_Digital_Video_Download_v1_00.tsv.gz\"\n",
        "spark.sparkContext.addFile(url)\n",
        "df = spark.read.option(\"encoding\", \"UTF-8\").csv(SparkFiles.get(\"amazon_reviews_us_Digital_Video_Download_v1_00.tsv.gz\"), sep=\"\\t\", header=True, inferSchema=True)\n",
        "df.show()"
      ]
    },
    {
      "cell_type": "code",
      "execution_count": 7,
      "metadata": {
        "colab": {
          "base_uri": "https://localhost:8080/"
        },
        "id": "JkbiBL0gw_iq",
        "outputId": "8e9825eb-c799-4c6b-9d39-aca06d3e7195"
      },
      "outputs": [
        {
          "name": "stdout",
          "output_type": "stream",
          "text": [
            "+-----------+-----------+--------------+----------+--------------+--------------------+--------------------+-----------+-------------+-----------+----+-----------------+--------------------+--------------------+-----------+\n",
            "|marketplace|customer_id|     review_id|product_id|product_parent|       product_title|    product_category|star_rating|helpful_votes|total_votes|vine|verified_purchase|     review_headline|         review_body|review_date|\n",
            "+-----------+-----------+--------------+----------+--------------+--------------------+--------------------+-----------+-------------+-----------+----+-----------------+--------------------+--------------------+-----------+\n",
            "|         US|   43836009|R1CY3APKBOVUYU|B00VO8D13K|      82685655|         Citizenfour|Digital_Video_Dow...|          1|            9|         33|   N|                Y|Unnecessarily Slo...|This is an unnece...| 2015-08-31|\n",
            "|         US|   16033254|R2LTI28AN2281A|B00YOSAJBO|     463297585|  Merchants Of Doubt|Digital_Video_Dow...|          1|            0|         22|   N|                Y|            One Star|   its a documentary| 2015-08-31|\n",
            "|         US|   20551036|R3PENXZQNYN29L|B00XOX9QCS|     895883504|  Mad Max: Fury Road|Digital_Video_Dow...|          1|            1|         26|   N|                Y|            One Star|Nothing like the ...| 2015-08-31|\n",
            "|         US|   45792135| R8IGXNWIBN7ZP|B007BVMVDU|     169791471|Game of Thrones S...|Digital_Video_Dow...|          1|            6|         20|   N|                Y|I'm a Christian a...|I have watched tr...| 2015-08-31|\n",
            "|         US|    3001767|R2P8B83Q61L4HS|B00XOXDXV8|     895883504|  Mad Max: Fury Road|Digital_Video_Dow...|          1|            0|         22|   N|                Y|            One Star|what a piss poor ...| 2015-08-31|\n",
            "+-----------+-----------+--------------+----------+--------------+--------------------+--------------------+-----------+-------------+-----------+----+-----------------+--------------------+--------------------+-----------+\n",
            "only showing top 5 rows\n",
            "\n"
          ]
        }
      ],
      "source": [
        "# Load in a function to use columns\n",
        "from pyspark.sql.functions import col\n",
        "\n",
        "# Filter for only columns with total_votes equal or greater than 20\n",
        "helpful_votes_df = df.filter(col(\"total_votes\") >= 20)\n",
        "helpful_votes_df.show(5)"
      ]
    },
    {
      "cell_type": "code",
      "execution_count": 8,
      "metadata": {
        "colab": {
          "base_uri": "https://localhost:8080/"
        },
        "id": "NQ9lvW8ixGyc",
        "outputId": "6055f452-63ac-492d-dbb3-2d34df002d04"
      },
      "outputs": [
        {
          "name": "stdout",
          "output_type": "stream",
          "text": [
            "+-----------+-----------+--------------+----------+--------------+--------------------+--------------------+-----------+-------------+-----------+----+-----------------+--------------------+--------------------+-----------+\n",
            "|marketplace|customer_id|     review_id|product_id|product_parent|       product_title|    product_category|star_rating|helpful_votes|total_votes|vine|verified_purchase|     review_headline|         review_body|review_date|\n",
            "+-----------+-----------+--------------+----------+--------------+--------------------+--------------------+-----------+-------------+-----------+----+-----------------+--------------------+--------------------+-----------+\n",
            "|         US|    6822472| RZM83AGJAUZMA|B0142KIQYA|     273405592|I'll See You in M...|Digital_Video_Dow...|          1|           32|         41|   N|                Y|A Conscious Uncou...|if anyone finds t...| 2015-08-31|\n",
            "|         US|   53001773|R12MYB9QM2YN8B|B00OLI95R6|     955620049|                Fury|Digital_Video_Dow...|          1|           19|         23|   N|                N|Good thing we mus...|SPOILER (this is ...| 2015-08-31|\n",
            "|         US|   39623520| RGCY6WG37F810|B00ZN31MK6|     372070036|Mythica: A Quest ...|Digital_Video_Dow...|          4|           24|         27|   N|                N|Proficient filmma...|The total budget ...| 2015-08-31|\n",
            "|         US|   36046213|R2UH0VN09DDQLA|B0143LIXI2|     111422216|The Great British...|Digital_Video_Dow...|          3|           23|         30|   N|                N|Title incorrect, ...|This is not seaso...| 2015-08-31|\n",
            "|         US|   14063405|R1E4W9ROP10WT3|B013QMAZ80|     438237578|    Digging for Fire|Digital_Video_Dow...|          5|           19|         22|   N|                N| Charming and Clever|Joe Swanberg is c...| 2015-08-31|\n",
            "+-----------+-----------+--------------+----------+--------------+--------------------+--------------------+-----------+-------------+-----------+----+-----------------+--------------------+--------------------+-----------+\n",
            "only showing top 5 rows\n",
            "\n"
          ]
        }
      ],
      "source": [
        "# Retrieve rows where helpful_votes/total_votes is >= 50%\n",
        "very_helpful_votes_df = helpful_votes_df.filter(col(\"helpful_votes\")/col(\"total_votes\") >= .50)\n",
        "very_helpful_votes_df.show(5)"
      ]
    },
    {
      "cell_type": "code",
      "execution_count": 9,
      "metadata": {
        "colab": {
          "base_uri": "https://localhost:8080/"
        },
        "id": "rOsdZjOD7VSX",
        "outputId": "668ed501-3d83-432a-8af7-f6e96efe9f69"
      },
      "outputs": [
        {
          "name": "stdout",
          "output_type": "stream",
          "text": [
            "+-----------+-----------+---------+----------+--------------+-------------+----------------+-----------+-------------+-----------+----+-----------------+---------------+-----------+-----------+\n",
            "|marketplace|customer_id|review_id|product_id|product_parent|product_title|product_category|star_rating|helpful_votes|total_votes|vine|verified_purchase|review_headline|review_body|review_date|\n",
            "+-----------+-----------+---------+----------+--------------+-------------+----------------+-----------+-------------+-----------+----+-----------------+---------------+-----------+-----------+\n",
            "+-----------+-----------+---------+----------+--------------+-------------+----------------+-----------+-------------+-----------+----+-----------------+---------------+-----------+-----------+\n",
            "\n"
          ]
        }
      ],
      "source": [
        "# Filter only reviews written as part of the Vine program\n",
        "vine_reviews_df = very_helpful_votes_df.filter(col(\"vine\") == 'Y')\n",
        "vine_reviews_df.show()"
      ]
    },
    {
      "cell_type": "code",
      "execution_count": 10,
      "metadata": {
        "colab": {
          "base_uri": "https://localhost:8080/"
        },
        "id": "DqqjPed970qu",
        "outputId": "0ef77854-c724-4899-c008-cdcfdc932c4c"
      },
      "outputs": [
        {
          "name": "stdout",
          "output_type": "stream",
          "text": [
            "+-----------+-----------+--------------+----------+--------------+--------------------+--------------------+-----------+-------------+-----------+----+-----------------+--------------------+--------------------+-----------+\n",
            "|marketplace|customer_id|     review_id|product_id|product_parent|       product_title|    product_category|star_rating|helpful_votes|total_votes|vine|verified_purchase|     review_headline|         review_body|review_date|\n",
            "+-----------+-----------+--------------+----------+--------------+--------------------+--------------------+-----------+-------------+-----------+----+-----------------+--------------------+--------------------+-----------+\n",
            "|         US|    6822472| RZM83AGJAUZMA|B0142KIQYA|     273405592|I'll See You in M...|Digital_Video_Dow...|          1|           32|         41|   N|                Y|A Conscious Uncou...|if anyone finds t...| 2015-08-31|\n",
            "|         US|   53001773|R12MYB9QM2YN8B|B00OLI95R6|     955620049|                Fury|Digital_Video_Dow...|          1|           19|         23|   N|                N|Good thing we mus...|SPOILER (this is ...| 2015-08-31|\n",
            "|         US|   39623520| RGCY6WG37F810|B00ZN31MK6|     372070036|Mythica: A Quest ...|Digital_Video_Dow...|          4|           24|         27|   N|                N|Proficient filmma...|The total budget ...| 2015-08-31|\n",
            "|         US|   36046213|R2UH0VN09DDQLA|B0143LIXI2|     111422216|The Great British...|Digital_Video_Dow...|          3|           23|         30|   N|                N|Title incorrect, ...|This is not seaso...| 2015-08-31|\n",
            "|         US|   14063405|R1E4W9ROP10WT3|B013QMAZ80|     438237578|    Digging for Fire|Digital_Video_Dow...|          5|           19|         22|   N|                N| Charming and Clever|Joe Swanberg is c...| 2015-08-31|\n",
            "|         US|   52577737| RF2BLXZTUOL0M|B013WF1Z4O|     507953360|The Man From U.N....|Digital_Video_Dow...|          5|           23|         27|   N|                N|A Classic Spy thr...|First, I have alw...| 2015-08-31|\n",
            "|         US|   17975408| REMDS9V4J58OR|B00X5FYC7Y|     157175185|What We Do in the...|Digital_Video_Dow...|          4|           25|         29|   N|                Y|What happens when...|In a time where V...| 2015-08-31|\n",
            "|         US|   44574826|R34CAWTWR5O2VN|B0142KIQYA|     273405592|I'll See You in M...|Digital_Video_Dow...|          1|           18|         20|   N|                Y|            One Star|I was terribly di...| 2015-08-31|\n",
            "|         US|   14262078|R2ISFKK57JF02V|B00R6TEJU0|     952659266|Leslie Sansone: W...|Digital_Video_Dow...|          5|           25|         26|   N|                Y|Getting In Shape ...|Just a few weeks ...| 2015-08-31|\n",
            "|         US|   52995763|R3D8LNOI6ZPOFY|B00S1Z5Z42|      65459000|     Against the Sun|Digital_Video_Dow...|          5|           68|         72|   N|                Y|      Rub-a-dub-dub!|“Three men in a t...| 2015-08-31|\n",
            "|         US|   40072280| RVR6HYB370XXD|B010X3O1IK|     943258491|     Do You Believe?|Digital_Video_Dow...|          4|          110|        112|   N|                Y|it was nice to wa...|This movie was re...| 2015-08-30|\n",
            "|         US|   10988317| R9DSUA5QATKSB|B00MR9YFCG|     123599100|Hand of God - Sea...|Digital_Video_Dow...|          4|           18|         21|   N|                Y|Check it out! Sur...|Perlman always fu...| 2015-08-30|\n",
            "|         US|   45328626|R1R6D5SQ0MJ4SD|B0112SYRUM|     421385979|Fear the Walking ...|Digital_Video_Dow...|          1|           24|         30|   N|                N|AMC?  A little qu...|I feel like I've ...| 2015-08-30|\n",
            "|         US|   13852674| RYWE9GFXNQMTM|B00O1SHSSE|     548093407|Transformers: Age...|Digital_Video_Dow...|          1|           30|         39|   N|                Y|         Zero Star's|Two words....Clic...| 2015-08-30|\n",
            "|         US|   16064482| RF201POYVHGTC|B005T5MYXC|      16212751|        Pulp Fiction|Digital_Video_Dow...|          1|           18|         36|   N|                Y|Pulp Film!  Yet a...|If you enjoy grat...| 2015-08-30|\n",
            "|         US|   11761031|R1XWUCJLDCJHGL|B00LPRK68S|     532518373|      God's Not Dead|Digital_Video_Dow...|          1|          120|        172|   N|                Y|Christian propaga...|I watched this mo...| 2015-08-30|\n",
            "|         US|   21170668|R1CO66W48MFQU3|B00YMIQ4VU|     532621969|  Defiance, Season 3|Digital_Video_Dow...|          5|           39|         39|   N|                N|Great writing and...|I just finished w...| 2015-08-29|\n",
            "|         US|   39623520|R20AC6JU04WVCD|B014KMI1F4|     446741332|     Z For Zachariah|Digital_Video_Dow...|          4|           20|         28|   N|                N|Ready for yet mor...|Assuming this was...| 2015-08-29|\n",
            "|         US|   50549295|R2PH5ZW3C5IVIW|B00C7L8DM2|     224529197|              Erased|Digital_Video_Dow...|          2|           23|         32|   N|                Y|Another Teenage K...|This could've bee...| 2015-08-29|\n",
            "|         US|   21120423| RC9EIG7IT5X9O|B012PJRXQC|     478633877|            Deep Web|Digital_Video_Dow...|          5|           63|         67|   N|                Y|Strange Things Ar...|This is an excell...| 2015-08-28|\n",
            "+-----------+-----------+--------------+----------+--------------+--------------------+--------------------+-----------+-------------+-----------+----+-----------------+--------------------+--------------------+-----------+\n",
            "only showing top 20 rows\n",
            "\n"
          ]
        }
      ],
      "source": [
        "# Filter only reviews not written as part of the Vine program\n",
        "non_vine_reviews_df = very_helpful_votes_df.filter(col(\"vine\") == 'N')\n",
        "non_vine_reviews_df.show()"
      ]
    },
    {
      "cell_type": "code",
      "execution_count": 17,
      "metadata": {
        "colab": {
          "base_uri": "https://localhost:8080/"
        },
        "id": "w3IOD45A9rEk",
        "outputId": "391cf9ad-b55c-4bff-f9c6-f26d2f7f1011"
      },
      "outputs": [
        {
          "name": "stdout",
          "output_type": "stream",
          "text": [
            "Total number of reviews for the paid Vine program was: 0.000000\n",
            "Total number of reviews for the unpaid Vine program was: 11371.000000\n",
            "Total number of Vine reviews was: 11371.000000\n",
            "Number of paid 5-star reviews was: 0.000000\n",
            "Number of unpaid 5-star reviews was: 4675.000000\n",
            "Total number of 5-star Vine reviews was: 4675.000000\n",
            "Share of paid 5-star reviews was: 0.000000% of total reviews\n",
            "Share of unpaid 5-star reviews was: 41.113359% of total reviews\n",
            "Share of paid 5-star reviews was: 0.000000% of 5-star reviews\n",
            "Share of unpaid 5-star reviews was: 100.000000% of 5-star reviews\n"
          ]
        }
      ],
      "source": [
        "# Determine the total number of reviews\n",
        "vine_reviews_df.count()\n",
        "print(\"Total number of reviews for the paid Vine program was: %f\" % vine_reviews_df.count())\n",
        "non_vine_reviews_df.count()\n",
        "print(\"Total number of reviews for the unpaid Vine program was: %f\" % non_vine_reviews_df.count())\n",
        "total_vine_reviews = vine_reviews_df.count() + non_vine_reviews_df.count()\n",
        "print(\"Total number of Vine reviews was: %f\" % total_vine_reviews)\n",
        "\n",
        "# Determine the number of paid 5-star reviews\n",
        "paid_5stars_df = vine_reviews_df.filter(col(\"star_rating\") == 5)\n",
        "print(\"Number of paid 5-star reviews was: %f\" % paid_5stars_df.count())\n",
        "\n",
        "# Determine thenumber of unpaid 5-star reviews\n",
        "unpaid_5stars_df = non_vine_reviews_df.filter(col(\"star_rating\") == 5)\n",
        "print(\"Number of unpaid 5-star reviews was: %f\" % unpaid_5stars_df.count())\n",
        "\n",
        "# Determine the total number of 5-star Vine reviews\n",
        "fivestars = paid_5stars_df.count() + unpaid_5stars_df.count()\n",
        "print(\"Total number of 5-star Vine reviews was: %f\" % fivestars)\n",
        "\n",
        "# Determine the % of paid 5-star reviews vs. total reviews\n",
        "paid_5stars_share = paid_5stars_df.count() * 100 / total_vine_reviews\n",
        "print(\"Share of paid 5-star reviews was: %f\" % paid_5stars_share + \"% of total reviews\")\n",
        "\n",
        "# Determine the % of unpaid 5-star reviews vs. total reviews\n",
        "unpaid_5stars_share = unpaid_5stars_df.count() * 100 / total_vine_reviews\n",
        "print(\"Share of unpaid 5-star reviews was: %f\" % unpaid_5stars_share + \"% of total reviews\")\n",
        "\n",
        "# Determine the % of paid 5-star reviews vs. total 5-star reviews\n",
        "paid_fivestars_share = paid_5stars_df.count() * 100 / fivestars\n",
        "print(\"Share of paid 5-star reviews was: %f\" % paid_fivestars_share + \"% of 5-star reviews\")\n",
        "\n",
        "# Determine the % of unpaid 5-star reviews vs. total 5-star reviews\n",
        "unpaid_fivestars_share = unpaid_5stars_df.count() * 100 / fivestars\n",
        "print(\"Share of unpaid 5-star reviews was: %f\" % unpaid_fivestars_share + \"% of 5-star reviews\")"
      ]
    }
  ],
  "metadata": {
    "colab": {
      "collapsed_sections": [],
      "provenance": []
    },
    "kernelspec": {
      "display_name": "Python 3",
      "name": "python3"
    },
    "language_info": {
      "name": "python"
    }
  },
  "nbformat": 4,
  "nbformat_minor": 0
}
